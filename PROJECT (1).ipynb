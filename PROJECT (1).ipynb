{
  "cells": [
    {
      "cell_type": "markdown",
      "source": [
        "import library"
      ],
      "metadata": {
        "id": "tavN_GJZ5xLx"
      }
    },
    {
      "cell_type": "code",
      "execution_count": 1,
      "metadata": {
        "id": "UB5iznSso1fl"
      },
      "outputs": [],
      "source": [
        "#Digit Recognition Deep Learning Project \n",
        "import pandas as pd\n",
        "import numpy as np\n",
        "import matplotlib.pyplot as plt\n",
        "import tensorflow\n",
        "from tensorflow import keras\n",
        "from tensorflow.keras import Sequential\n",
        "from tensorflow.keras.layers import Dense,Flatten"
      ]
    },
    {
      "cell_type": "code",
      "source": [],
      "metadata": {
        "id": "yfIw1McFLXvW"
      },
      "execution_count": 1,
      "outputs": []
    },
    {
      "cell_type": "markdown",
      "source": [
        "**Load Data**"
      ],
      "metadata": {
        "id": "zP2YwSzut92l"
      }
    },
    {
      "cell_type": "code",
      "execution_count": 2,
      "metadata": {
        "id": "OlYxQ1oSo9mW",
        "colab": {
          "base_uri": "https://localhost:8080/"
        },
        "outputId": "1cba51f1-9608-4f9e-fa19-a5d599a0fc7d"
      },
      "outputs": [
        {
          "output_type": "stream",
          "name": "stdout",
          "text": [
            "Downloading data from https://storage.googleapis.com/tensorflow/tf-keras-datasets/mnist.npz\n",
            "11490434/11490434 [==============================] - 0s 0us/step\n"
          ]
        }
      ],
      "source": [
        "(xtrain,ytrain ),(xtest,ytest)=keras.datasets.mnist.load_data()\n"
      ]
    },
    {
      "cell_type": "code",
      "execution_count": 3,
      "metadata": {
        "id": "ylBn8Sb4qYPE",
        "colab": {
          "base_uri": "https://localhost:8080/"
        },
        "outputId": "9738f1b5-2cd0-4c35-fac5-b947679dc6bc"
      },
      "outputs": [
        {
          "output_type": "execute_result",
          "data": {
            "text/plain": [
              "3"
            ]
          },
          "metadata": {},
          "execution_count": 3
        }
      ],
      "source": [
        "#check the dimention xtrain\n",
        "xtrain.ndim"
      ]
    },
    {
      "cell_type": "code",
      "source": [
        "xtest.ndim"
      ],
      "metadata": {
        "colab": {
          "base_uri": "https://localhost:8080/"
        },
        "id": "ven78x_LwBdt",
        "outputId": "14ab2c56-23a5-4565-c9e5-380ce207821a"
      },
      "execution_count": 4,
      "outputs": [
        {
          "output_type": "execute_result",
          "data": {
            "text/plain": [
              "3"
            ]
          },
          "metadata": {},
          "execution_count": 4
        }
      ]
    },
    {
      "cell_type": "code",
      "execution_count": 5,
      "metadata": {
        "id": "aYoQ73F-e2bf",
        "colab": {
          "base_uri": "https://localhost:8080/"
        },
        "outputId": "d1ca7dc6-7a57-465d-8c62-1f4cda5cf92a"
      },
      "outputs": [
        {
          "output_type": "execute_result",
          "data": {
            "text/plain": [
              "array([[[0, 0, 0, ..., 0, 0, 0],\n",
              "        [0, 0, 0, ..., 0, 0, 0],\n",
              "        [0, 0, 0, ..., 0, 0, 0],\n",
              "        ...,\n",
              "        [0, 0, 0, ..., 0, 0, 0],\n",
              "        [0, 0, 0, ..., 0, 0, 0],\n",
              "        [0, 0, 0, ..., 0, 0, 0]],\n",
              "\n",
              "       [[0, 0, 0, ..., 0, 0, 0],\n",
              "        [0, 0, 0, ..., 0, 0, 0],\n",
              "        [0, 0, 0, ..., 0, 0, 0],\n",
              "        ...,\n",
              "        [0, 0, 0, ..., 0, 0, 0],\n",
              "        [0, 0, 0, ..., 0, 0, 0],\n",
              "        [0, 0, 0, ..., 0, 0, 0]],\n",
              "\n",
              "       [[0, 0, 0, ..., 0, 0, 0],\n",
              "        [0, 0, 0, ..., 0, 0, 0],\n",
              "        [0, 0, 0, ..., 0, 0, 0],\n",
              "        ...,\n",
              "        [0, 0, 0, ..., 0, 0, 0],\n",
              "        [0, 0, 0, ..., 0, 0, 0],\n",
              "        [0, 0, 0, ..., 0, 0, 0]],\n",
              "\n",
              "       ...,\n",
              "\n",
              "       [[0, 0, 0, ..., 0, 0, 0],\n",
              "        [0, 0, 0, ..., 0, 0, 0],\n",
              "        [0, 0, 0, ..., 0, 0, 0],\n",
              "        ...,\n",
              "        [0, 0, 0, ..., 0, 0, 0],\n",
              "        [0, 0, 0, ..., 0, 0, 0],\n",
              "        [0, 0, 0, ..., 0, 0, 0]],\n",
              "\n",
              "       [[0, 0, 0, ..., 0, 0, 0],\n",
              "        [0, 0, 0, ..., 0, 0, 0],\n",
              "        [0, 0, 0, ..., 0, 0, 0],\n",
              "        ...,\n",
              "        [0, 0, 0, ..., 0, 0, 0],\n",
              "        [0, 0, 0, ..., 0, 0, 0],\n",
              "        [0, 0, 0, ..., 0, 0, 0]],\n",
              "\n",
              "       [[0, 0, 0, ..., 0, 0, 0],\n",
              "        [0, 0, 0, ..., 0, 0, 0],\n",
              "        [0, 0, 0, ..., 0, 0, 0],\n",
              "        ...,\n",
              "        [0, 0, 0, ..., 0, 0, 0],\n",
              "        [0, 0, 0, ..., 0, 0, 0],\n",
              "        [0, 0, 0, ..., 0, 0, 0]]], dtype=uint8)"
            ]
          },
          "metadata": {},
          "execution_count": 5
        }
      ],
      "source": [
        "xtrain"
      ]
    },
    {
      "cell_type": "code",
      "execution_count": 6,
      "metadata": {
        "id": "YDH2Kg0TlPVe",
        "colab": {
          "base_uri": "https://localhost:8080/"
        },
        "outputId": "15aecbf9-baeb-4923-df15-e76a231cbf9d"
      },
      "outputs": [
        {
          "output_type": "execute_result",
          "data": {
            "text/plain": [
              "1"
            ]
          },
          "metadata": {},
          "execution_count": 6
        }
      ],
      "source": [
        "#check the dimention ytrain\n",
        "ytrain.ndim"
      ]
    },
    {
      "cell_type": "code",
      "execution_count": 7,
      "metadata": {
        "id": "IC43snlwlUIy",
        "colab": {
          "base_uri": "https://localhost:8080/"
        },
        "outputId": "b8528c4d-1c88-45a1-d2ef-082294dca8c5"
      },
      "outputs": [
        {
          "output_type": "execute_result",
          "data": {
            "text/plain": [
              "1"
            ]
          },
          "metadata": {},
          "execution_count": 7
        }
      ],
      "source": [
        "#check the dimention ytest \n",
        "ytest.ndim"
      ]
    },
    {
      "cell_type": "code",
      "execution_count": 8,
      "metadata": {
        "id": "zefjP5UIm3V0",
        "colab": {
          "base_uri": "https://localhost:8080/"
        },
        "outputId": "aeea920a-0510-4b59-e3b6-8dfb33dcb86e"
      },
      "outputs": [
        {
          "output_type": "execute_result",
          "data": {
            "text/plain": [
              "(60000, 28, 28)"
            ]
          },
          "metadata": {},
          "execution_count": 8
        }
      ],
      "source": [
        "#60,000 img information and return \n",
        "#28 rows\n",
        "#28 columns\n",
        "xtrain.shape "
      ]
    },
    {
      "cell_type": "code",
      "execution_count": 9,
      "metadata": {
        "id": "JYss0OQSlS9b",
        "colab": {
          "base_uri": "https://localhost:8080/"
        },
        "outputId": "fd470838-6fb1-475c-f09b-5cf7748024ee"
      },
      "outputs": [
        {
          "output_type": "execute_result",
          "data": {
            "text/plain": [
              "(60000,)"
            ]
          },
          "metadata": {},
          "execution_count": 9
        }
      ],
      "source": [
        "#return imgs imformation\n",
        "ytrain.shape"
      ]
    },
    {
      "cell_type": "code",
      "execution_count": 10,
      "metadata": {
        "id": "Z4wJYrS3ZjHP",
        "colab": {
          "base_uri": "https://localhost:8080/"
        },
        "outputId": "8fe1904e-bfd8-4400-92d1-4192a7155996"
      },
      "outputs": [
        {
          "output_type": "execute_result",
          "data": {
            "text/plain": [
              "(10000, 28, 28)"
            ]
          },
          "metadata": {},
          "execution_count": 10
        }
      ],
      "source": [
        "#check the dimention xtrain\n",
        "\n",
        "xtest.shape"
      ]
    },
    {
      "cell_type": "code",
      "source": [
        "ytest.shape"
      ],
      "metadata": {
        "colab": {
          "base_uri": "https://localhost:8080/"
        },
        "id": "kl32nYWCw7ho",
        "outputId": "2201fd07-91a3-4159-d686-20443ab6de66"
      },
      "execution_count": 11,
      "outputs": [
        {
          "output_type": "execute_result",
          "data": {
            "text/plain": [
              "(10000,)"
            ]
          },
          "metadata": {},
          "execution_count": 11
        }
      ]
    },
    {
      "cell_type": "code",
      "execution_count": 12,
      "metadata": {
        "id": "3KV63Gz5iPl1",
        "colab": {
          "base_uri": "https://localhost:8080/"
        },
        "outputId": "f0f26109-d36d-4be7-ab3d-e4f40646dd84"
      },
      "outputs": [
        {
          "output_type": "execute_result",
          "data": {
            "text/plain": [
              "3"
            ]
          },
          "metadata": {},
          "execution_count": 12
        }
      ],
      "source": [
        "xtrain.ndim  "
      ]
    },
    {
      "cell_type": "code",
      "execution_count": 13,
      "metadata": {
        "id": "EqQV7w28iI9J",
        "colab": {
          "base_uri": "https://localhost:8080/"
        },
        "outputId": "4eec1a04-6407-4b74-c2bc-76981ab1ac24"
      },
      "outputs": [
        {
          "output_type": "execute_result",
          "data": {
            "text/plain": [
              "3"
            ]
          },
          "metadata": {},
          "execution_count": 13
        }
      ],
      "source": [
        "xtest.ndim"
      ]
    },
    {
      "cell_type": "code",
      "execution_count": 14,
      "metadata": {
        "id": "7B2nuUBom74D",
        "colab": {
          "base_uri": "https://localhost:8080/",
          "height": 282
        },
        "outputId": "b658cfa2-435c-41d0-e80c-7883f07773b3"
      },
      "outputs": [
        {
          "output_type": "execute_result",
          "data": {
            "text/plain": [
              "<matplotlib.image.AxesImage at 0x7f17817e3ac0>"
            ]
          },
          "metadata": {},
          "execution_count": 14
        },
        {
          "output_type": "display_data",
          "data": {
            "text/plain": [
              "<Figure size 432x288 with 1 Axes>"
            ],
            "image/png": "[encoded data removed]"
          },
          "metadata": {
            "needs_background": "light"
          }
        }
      ],
      "source": [
        "#show image \n",
        "import matplotlib.pyplot as plt\n",
        "plt.imshow(xtrain[1])"
      ]
    },
    {
      "cell_type": "markdown",
      "source": [
        "**feature scalling**"
      ],
      "metadata": {
        "id": "Z9lGDe4pGPgt"
      }
    },
    {
      "cell_type": "code",
      "execution_count": 15,
      "metadata": {
        "id": "zPDjSp4YZ9fQ"
      },
      "outputs": [],
      "source": [
        "#0 to 255 values the after i try to normalize.\n",
        "#to converted 0 to 1 range values.\n",
        "xtrain=xtrain/255\n",
        "xtest=xtest/255\n",
        "\n"
      ]
    },
    {
      "cell_type": "code",
      "execution_count": 16,
      "metadata": {
        "id": "sXev65KqoBJi",
        "colab": {
          "base_uri": "https://localhost:8080/"
        },
        "outputId": "ce057232-1384-4981-baef-246b1386982d"
      },
      "outputs": [
        {
          "output_type": "stream",
          "name": "stdout",
          "text": [
            "xtrain [[0.         0.         0.         0.         0.         0.\n",
            "  0.         0.         0.         0.         0.         0.\n",
            "  0.         0.         0.         0.         0.         0.\n",
            "  0.         0.         0.         0.         0.         0.\n",
            "  0.         0.         0.         0.        ]\n",
            " [0.         0.         0.         0.         0.         0.\n",
            "  0.         0.         0.         0.         0.         0.\n",
            "  0.         0.         0.         0.         0.         0.\n",
            "  0.         0.         0.         0.         0.         0.\n",
            "  0.         0.         0.         0.        ]\n",
            " [0.         0.         0.         0.         0.         0.\n",
            "  0.         0.         0.         0.         0.         0.\n",
            "  0.         0.         0.         0.         0.         0.\n",
            "  0.         0.         0.         0.         0.         0.\n",
            "  0.         0.         0.         0.        ]\n",
            " [0.         0.         0.         0.         0.         0.\n",
            "  0.         0.         0.         0.         0.         0.\n",
            "  0.         0.         0.         0.         0.         0.\n",
            "  0.         0.         0.         0.         0.         0.\n",
            "  0.         0.         0.         0.        ]\n",
            " [0.         0.         0.         0.         0.         0.\n",
            "  0.         0.         0.         0.         0.         0.\n",
            "  0.         0.         0.         0.2        0.62352941 0.99215686\n",
            "  0.62352941 0.19607843 0.         0.         0.         0.\n",
            "  0.         0.         0.         0.        ]\n",
            " [0.         0.         0.         0.         0.         0.\n",
            "  0.         0.         0.         0.         0.         0.\n",
            "  0.         0.         0.18823529 0.93333333 0.98823529 0.98823529\n",
            "  0.98823529 0.92941176 0.         0.         0.         0.\n",
            "  0.         0.         0.         0.        ]\n",
            " [0.         0.         0.         0.         0.         0.\n",
            "  0.         0.         0.         0.         0.         0.\n",
            "  0.         0.21176471 0.89019608 0.99215686 0.98823529 0.9372549\n",
            "  0.91372549 0.98823529 0.22352941 0.02352941 0.         0.\n",
            "  0.         0.         0.         0.        ]\n",
            " [0.         0.         0.         0.         0.         0.\n",
            "  0.         0.         0.         0.         0.         0.03921569\n",
            "  0.23529412 0.87843137 0.98823529 0.99215686 0.98823529 0.79215686\n",
            "  0.32941176 0.98823529 0.99215686 0.47843137 0.         0.\n",
            "  0.         0.         0.         0.        ]\n",
            " [0.         0.         0.         0.         0.         0.\n",
            "  0.         0.         0.         0.         0.         0.63921569\n",
            "  0.98823529 0.98823529 0.98823529 0.99215686 0.98823529 0.98823529\n",
            "  0.37647059 0.74117647 0.99215686 0.65490196 0.         0.\n",
            "  0.         0.         0.         0.        ]\n",
            " [0.         0.         0.         0.         0.         0.\n",
            "  0.         0.         0.         0.         0.2        0.93333333\n",
            "  0.99215686 0.99215686 0.74509804 0.44705882 0.99215686 0.89411765\n",
            "  0.18431373 0.30980392 1.         0.65882353 0.         0.\n",
            "  0.         0.         0.         0.        ]\n",
            " [0.         0.         0.         0.         0.         0.\n",
            "  0.         0.         0.         0.18823529 0.93333333 0.98823529\n",
            "  0.98823529 0.70196078 0.04705882 0.29411765 0.4745098  0.08235294\n",
            "  0.         0.         0.99215686 0.95294118 0.19607843 0.\n",
            "  0.         0.         0.         0.        ]\n",
            " [0.         0.         0.         0.         0.         0.\n",
            "  0.         0.         0.14901961 0.64705882 0.99215686 0.91372549\n",
            "  0.81568627 0.32941176 0.         0.         0.         0.\n",
            "  0.         0.         0.99215686 0.98823529 0.64705882 0.\n",
            "  0.         0.         0.         0.        ]\n",
            " [0.         0.         0.         0.         0.         0.\n",
            "  0.         0.02745098 0.69803922 0.98823529 0.94117647 0.27843137\n",
            "  0.0745098  0.10980392 0.         0.         0.         0.\n",
            "  0.         0.         0.99215686 0.98823529 0.76470588 0.\n",
            "  0.         0.         0.         0.        ]\n",
            " [0.         0.         0.         0.         0.         0.\n",
            "  0.         0.22352941 0.98823529 0.98823529 0.24705882 0.\n",
            "  0.         0.         0.         0.         0.         0.\n",
            "  0.         0.         0.99215686 0.98823529 0.76470588 0.\n",
            "  0.         0.         0.         0.        ]\n",
            " [0.         0.         0.         0.         0.         0.\n",
            "  0.         0.77647059 0.99215686 0.74509804 0.         0.\n",
            "  0.         0.         0.         0.         0.         0.\n",
            "  0.         0.         1.         0.99215686 0.76862745 0.\n",
            "  0.         0.         0.         0.        ]\n",
            " [0.         0.         0.         0.         0.         0.\n",
            "  0.29803922 0.96470588 0.98823529 0.43921569 0.         0.\n",
            "  0.         0.         0.         0.         0.         0.\n",
            "  0.         0.         0.99215686 0.98823529 0.58039216 0.\n",
            "  0.         0.         0.         0.        ]\n",
            " [0.         0.         0.         0.         0.         0.\n",
            "  0.33333333 0.98823529 0.90196078 0.09803922 0.         0.\n",
            "  0.         0.         0.         0.         0.         0.\n",
            "  0.02745098 0.52941176 0.99215686 0.72941176 0.04705882 0.\n",
            "  0.         0.         0.         0.        ]\n",
            " [0.         0.         0.         0.         0.         0.\n",
            "  0.33333333 0.98823529 0.8745098  0.         0.         0.\n",
            "  0.         0.         0.         0.         0.         0.02745098\n",
            "  0.51372549 0.98823529 0.88235294 0.27843137 0.         0.\n",
            "  0.         0.         0.         0.        ]\n",
            " [0.         0.         0.         0.         0.         0.\n",
            "  0.33333333 0.98823529 0.56862745 0.         0.         0.\n",
            "  0.         0.         0.         0.         0.18823529 0.64705882\n",
            "  0.98823529 0.67843137 0.         0.         0.         0.\n",
            "  0.         0.         0.         0.        ]\n",
            " [0.         0.         0.         0.         0.         0.\n",
            "  0.3372549  0.99215686 0.88235294 0.         0.         0.\n",
            "  0.         0.         0.         0.44705882 0.93333333 0.99215686\n",
            "  0.63529412 0.         0.         0.         0.         0.\n",
            "  0.         0.         0.         0.        ]\n",
            " [0.         0.         0.         0.         0.         0.\n",
            "  0.33333333 0.98823529 0.97647059 0.57254902 0.18823529 0.11372549\n",
            "  0.33333333 0.69803922 0.88235294 0.99215686 0.8745098  0.65490196\n",
            "  0.21960784 0.         0.         0.         0.         0.\n",
            "  0.         0.         0.         0.        ]\n",
            " [0.         0.         0.         0.         0.         0.\n",
            "  0.33333333 0.98823529 0.98823529 0.98823529 0.89803922 0.84313725\n",
            "  0.98823529 0.98823529 0.98823529 0.76862745 0.50980392 0.\n",
            "  0.         0.         0.         0.         0.         0.\n",
            "  0.         0.         0.         0.        ]\n",
            " [0.         0.         0.         0.         0.         0.\n",
            "  0.10980392 0.78039216 0.98823529 0.98823529 0.99215686 0.98823529\n",
            "  0.98823529 0.91372549 0.56862745 0.         0.         0.\n",
            "  0.         0.         0.         0.         0.         0.\n",
            "  0.         0.         0.         0.        ]\n",
            " [0.         0.         0.         0.         0.         0.\n",
            "  0.         0.09803922 0.50196078 0.98823529 0.99215686 0.98823529\n",
            "  0.55294118 0.14509804 0.         0.         0.         0.\n",
            "  0.         0.         0.         0.         0.         0.\n",
            "  0.         0.         0.         0.        ]\n",
            " [0.         0.         0.         0.         0.         0.\n",
            "  0.         0.         0.         0.         0.         0.\n",
            "  0.         0.         0.         0.         0.         0.\n",
            "  0.         0.         0.         0.         0.         0.\n",
            "  0.         0.         0.         0.        ]\n",
            " [0.         0.         0.         0.         0.         0.\n",
            "  0.         0.         0.         0.         0.         0.\n",
            "  0.         0.         0.         0.         0.         0.\n",
            "  0.         0.         0.         0.         0.         0.\n",
            "  0.         0.         0.         0.        ]\n",
            " [0.         0.         0.         0.         0.         0.\n",
            "  0.         0.         0.         0.         0.         0.\n",
            "  0.         0.         0.         0.         0.         0.\n",
            "  0.         0.         0.         0.         0.         0.\n",
            "  0.         0.         0.         0.        ]\n",
            " [0.         0.         0.         0.         0.         0.\n",
            "  0.         0.         0.         0.         0.         0.\n",
            "  0.         0.         0.         0.         0.         0.\n",
            "  0.         0.         0.         0.         0.         0.\n",
            "  0.         0.         0.         0.        ]]\n",
            "xtest [[0.         0.         0.         0.         0.         0.\n",
            "  0.         0.         0.         0.         0.         0.\n",
            "  0.         0.         0.         0.         0.         0.\n",
            "  0.         0.         0.         0.         0.         0.\n",
            "  0.         0.         0.         0.        ]\n",
            " [0.         0.         0.         0.         0.         0.\n",
            "  0.         0.         0.         0.         0.         0.\n",
            "  0.         0.         0.         0.         0.         0.\n",
            "  0.         0.         0.         0.         0.         0.\n",
            "  0.         0.         0.         0.        ]\n",
            " [0.         0.         0.         0.         0.         0.\n",
            "  0.         0.         0.         0.         0.         0.\n",
            "  0.         0.         0.         0.         0.         0.\n",
            "  0.         0.         0.         0.         0.         0.\n",
            "  0.         0.         0.         0.        ]\n",
            " [0.         0.         0.         0.         0.         0.\n",
            "  0.         0.         0.         0.         0.45490196 0.49019608\n",
            "  0.67058824 1.         1.         0.58823529 0.36470588 0.\n",
            "  0.         0.         0.         0.         0.         0.\n",
            "  0.         0.         0.         0.        ]\n",
            " [0.         0.         0.         0.         0.         0.\n",
            "  0.         0.         0.         0.6627451  0.99215686 0.99215686\n",
            "  0.99215686 0.99215686 0.99215686 0.99215686 0.85490196 0.11764706\n",
            "  0.         0.         0.         0.         0.         0.\n",
            "  0.         0.         0.         0.        ]\n",
            " [0.         0.         0.         0.         0.         0.\n",
            "  0.         0.         0.6627451  0.99215686 0.99215686 0.99215686\n",
            "  0.83529412 0.55686275 0.69019608 0.99215686 0.99215686 0.47843137\n",
            "  0.         0.         0.         0.         0.         0.\n",
            "  0.         0.         0.         0.        ]\n",
            " [0.         0.         0.         0.         0.         0.\n",
            "  0.         0.20392157 0.98039216 0.99215686 0.82352941 0.1254902\n",
            "  0.04705882 0.         0.02352941 0.80784314 0.99215686 0.54901961\n",
            "  0.         0.         0.         0.         0.         0.\n",
            "  0.         0.         0.         0.        ]\n",
            " [0.         0.         0.         0.         0.         0.\n",
            "  0.         0.30196078 0.98431373 0.82352941 0.09803922 0.\n",
            "  0.         0.         0.47843137 0.97254902 0.99215686 0.25490196\n",
            "  0.         0.         0.         0.         0.         0.\n",
            "  0.         0.         0.         0.        ]\n",
            " [0.         0.         0.         0.         0.         0.\n",
            "  0.         0.         0.12156863 0.07058824 0.         0.\n",
            "  0.         0.         0.81960784 0.99215686 0.99215686 0.25490196\n",
            "  0.         0.         0.         0.         0.         0.\n",
            "  0.         0.         0.         0.        ]\n",
            " [0.         0.         0.         0.         0.         0.\n",
            "  0.         0.         0.         0.         0.         0.\n",
            "  0.         0.45882353 0.96862745 0.99215686 0.77647059 0.03921569\n",
            "  0.         0.         0.         0.         0.         0.\n",
            "  0.         0.         0.         0.        ]\n",
            " [0.         0.         0.         0.         0.         0.\n",
            "  0.         0.         0.         0.         0.         0.\n",
            "  0.29803922 0.96862745 0.99215686 0.90588235 0.24705882 0.\n",
            "  0.         0.         0.         0.         0.         0.\n",
            "  0.         0.         0.         0.        ]\n",
            " [0.         0.         0.         0.         0.         0.\n",
            "  0.         0.         0.         0.         0.         0.\n",
            "  0.50196078 0.99215686 0.99215686 0.56470588 0.         0.\n",
            "  0.         0.         0.         0.         0.         0.\n",
            "  0.         0.         0.         0.        ]\n",
            " [0.         0.         0.         0.         0.         0.\n",
            "  0.         0.         0.         0.         0.         0.69019608\n",
            "  0.96470588 0.99215686 0.62352941 0.04705882 0.         0.\n",
            "  0.         0.         0.         0.         0.         0.\n",
            "  0.         0.         0.         0.        ]\n",
            " [0.         0.         0.         0.         0.         0.\n",
            "  0.         0.         0.         0.         0.09803922 0.91764706\n",
            "  0.99215686 0.91372549 0.1372549  0.         0.         0.\n",
            "  0.         0.         0.         0.         0.         0.\n",
            "  0.         0.         0.         0.        ]\n",
            " [0.         0.         0.         0.         0.         0.\n",
            "  0.         0.         0.         0.         0.77647059 0.99215686\n",
            "  0.99215686 0.55294118 0.         0.         0.         0.\n",
            "  0.         0.         0.         0.         0.         0.\n",
            "  0.         0.         0.         0.        ]\n",
            " [0.         0.         0.         0.         0.         0.\n",
            "  0.         0.         0.         0.30588235 0.97254902 0.99215686\n",
            "  0.74117647 0.04705882 0.         0.         0.         0.\n",
            "  0.         0.         0.         0.         0.         0.\n",
            "  0.         0.         0.         0.        ]\n",
            " [0.         0.         0.         0.         0.         0.\n",
            "  0.         0.         0.0745098  0.78431373 0.99215686 0.99215686\n",
            "  0.55294118 0.         0.         0.         0.         0.\n",
            "  0.         0.         0.         0.         0.         0.\n",
            "  0.         0.         0.         0.        ]\n",
            " [0.         0.         0.         0.         0.         0.\n",
            "  0.         0.         0.5254902  0.99215686 0.99215686 0.67843137\n",
            "  0.04705882 0.         0.         0.         0.         0.\n",
            "  0.         0.         0.         0.         0.         0.\n",
            "  0.         0.         0.         0.        ]\n",
            " [0.         0.         0.         0.         0.         0.\n",
            "  0.         0.         0.97254902 0.99215686 0.99215686 0.09803922\n",
            "  0.         0.         0.         0.         0.         0.\n",
            "  0.         0.         0.         0.         0.         0.\n",
            "  0.         0.         0.         0.        ]\n",
            " [0.         0.         0.         0.         0.         0.\n",
            "  0.         0.         0.97254902 0.99215686 0.99215686 0.16862745\n",
            "  0.07843137 0.07843137 0.07843137 0.07843137 0.01960784 0.\n",
            "  0.01960784 0.07843137 0.07843137 0.14509804 0.58823529 0.58823529\n",
            "  0.58823529 0.57647059 0.03921569 0.        ]\n",
            " [0.         0.         0.         0.         0.         0.\n",
            "  0.         0.         0.97254902 0.99215686 0.99215686 0.99215686\n",
            "  0.99215686 0.99215686 0.99215686 0.99215686 0.65882353 0.56078431\n",
            "  0.65098039 0.99215686 0.99215686 0.99215686 0.99215686 0.99215686\n",
            "  0.99215686 0.99215686 0.48235294 0.        ]\n",
            " [0.         0.         0.         0.         0.         0.\n",
            "  0.         0.         0.68235294 0.99215686 0.99215686 0.99215686\n",
            "  0.99215686 0.99215686 0.99215686 0.99215686 0.99215686 0.99215686\n",
            "  0.99215686 0.99215686 0.97647059 0.96862745 0.96862745 0.6627451\n",
            "  0.45882353 0.45882353 0.22352941 0.        ]\n",
            " [0.         0.         0.         0.         0.         0.\n",
            "  0.         0.         0.         0.4627451  0.48235294 0.48235294\n",
            "  0.48235294 0.65098039 0.99215686 0.99215686 0.99215686 0.60784314\n",
            "  0.48235294 0.48235294 0.16078431 0.         0.         0.\n",
            "  0.         0.         0.         0.        ]\n",
            " [0.         0.         0.         0.         0.         0.\n",
            "  0.         0.         0.         0.         0.         0.\n",
            "  0.         0.         0.         0.         0.         0.\n",
            "  0.         0.         0.         0.         0.         0.\n",
            "  0.         0.         0.         0.        ]\n",
            " [0.         0.         0.         0.         0.         0.\n",
            "  0.         0.         0.         0.         0.         0.\n",
            "  0.         0.         0.         0.         0.         0.\n",
            "  0.         0.         0.         0.         0.         0.\n",
            "  0.         0.         0.         0.        ]\n",
            " [0.         0.         0.         0.         0.         0.\n",
            "  0.         0.         0.         0.         0.         0.\n",
            "  0.         0.         0.         0.         0.         0.\n",
            "  0.         0.         0.         0.         0.         0.\n",
            "  0.         0.         0.         0.        ]\n",
            " [0.         0.         0.         0.         0.         0.\n",
            "  0.         0.         0.         0.         0.         0.\n",
            "  0.         0.         0.         0.         0.         0.\n",
            "  0.         0.         0.         0.         0.         0.\n",
            "  0.         0.         0.         0.        ]\n",
            " [0.         0.         0.         0.         0.         0.\n",
            "  0.         0.         0.         0.         0.         0.\n",
            "  0.         0.         0.         0.         0.         0.\n",
            "  0.         0.         0.         0.         0.         0.\n",
            "  0.         0.         0.         0.        ]]\n"
          ]
        }
      ],
      "source": [
        "print(\"xtrain\",xtrain[1])\n",
        "\n",
        "print('xtest',xtest[1])\n"
      ]
    },
    {
      "cell_type": "markdown",
      "source": [
        "**Build Neural Network model**"
      ],
      "metadata": {
        "id": "-1gtuNSW79yT"
      }
    },
    {
      "cell_type": "code",
      "execution_count": 17,
      "metadata": {
        "id": "P9JGtU_wnBeA"
      },
      "outputs": [],
      "source": [
        "# buld modele \n",
        "model=Sequential()\n",
        "model.add(Flatten(input_shape=(28,28))) #input layer\n",
        "model.add(Dense(128,activation='relu')) #hidden layer\n",
        "model.add(Dense(10,activation='softmax')) #output layer"
      ]
    },
    {
      "cell_type": "markdown",
      "source": [
        "#return flatten layer shape id total 784 input and parameter value is 0.\n",
        "#dense_6 layer shape is 128 input means;i mention the input and parameter value is 100480. \n",
        "#dense_7 layer shape is 10 mean this output layer and parameter value is 1290. **bold text**\n",
        "model.summary()"
      ],
      "metadata": {
        "id": "98MNLy8u8NAy"
      }
    },
    {
      "cell_type": "code",
      "execution_count": 18,
      "metadata": {
        "id": "CUs3mCLshkbl",
        "colab": {
          "base_uri": "https://localhost:8080/"
        },
        "outputId": "398f6f87-1d46-4c22-a766-a34d037e9d35"
      },
      "outputs": [
        {
          "output_type": "stream",
          "name": "stdout",
          "text": [
            "Model: \"sequential\"\n",
            "_________________________________________________________________\n",
            " Layer (type)                Output Shape              Param #   \n",
            "=================================================================\n",
            " flatten (Flatten)           (None, 784)               0         \n",
            "                                                                 \n",
            " dense (Dense)               (None, 128)               100480    \n",
            "                                                                 \n",
            " dense_1 (Dense)             (None, 10)                1290      \n",
            "                                                                 \n",
            "=================================================================\n",
            "Total params: 101,770\n",
            "Trainable params: 101,770\n",
            "Non-trainable params: 0\n",
            "_________________________________________________________________\n"
          ]
        }
      ],
      "source": [
        "model.summary()"
      ]
    },
    {
      "cell_type": "markdown",
      "source": [
        "**#compail the model**\n",
        "\n",
        "after then my model is compile process optimzer is adms,\n",
        "loss is using sparse_categorical_crossentropy because i perform classfiction problem.\n",
        "then i find loss after then i find accuracy i using merics."
      ],
      "metadata": {
        "id": "dQsWMe_J8-3a"
      }
    },
    {
      "cell_type": "code",
      "execution_count": 19,
      "metadata": {
        "id": "qcMmTrDnhsQA"
      },
      "outputs": [],
      "source": [
        "#compail the model\n",
        "model.compile(loss='sparse_categorical_crossentropy',optimizer='Adam',metrics=['accuracy'])\n"
      ]
    },
    {
      "cell_type": "markdown",
      "source": [
        "**#train the model**\n",
        "\n"
      ],
      "metadata": {
        "id": "fclyyBf89bU8"
      }
    },
    {
      "cell_type": "code",
      "execution_count": 20,
      "metadata": {
        "id": "-CBtZNwqh2cJ",
        "colab": {
          "base_uri": "https://localhost:8080/"
        },
        "outputId": "e918c6a4-8a3e-475e-b907-e86a3f5770f7"
      },
      "outputs": [
        {
          "output_type": "stream",
          "name": "stdout",
          "text": [
            "Epoch 1/10\n",
            "750/750 [==============================] - 4s 5ms/step - loss: 0.3347 - accuracy: 0.9071 - val_loss: 0.1838 - val_accuracy: 0.9480\n",
            "Epoch 2/10\n",
            "750/750 [==============================] - 4s 5ms/step - loss: 0.1539 - accuracy: 0.9556 - val_loss: 0.1337 - val_accuracy: 0.9610\n",
            "Epoch 3/10\n",
            "750/750 [==============================] - 6s 9ms/step - loss: 0.1084 - accuracy: 0.9683 - val_loss: 0.1218 - val_accuracy: 0.9635\n",
            "Epoch 4/10\n",
            "750/750 [==============================] - 6s 9ms/step - loss: 0.0817 - accuracy: 0.9761 - val_loss: 0.1047 - val_accuracy: 0.9677\n",
            "Epoch 5/10\n",
            "750/750 [==============================] - 6s 8ms/step - loss: 0.0642 - accuracy: 0.9815 - val_loss: 0.0961 - val_accuracy: 0.9710\n",
            "Epoch 6/10\n",
            "750/750 [==============================] - 4s 6ms/step - loss: 0.0518 - accuracy: 0.9851 - val_loss: 0.0889 - val_accuracy: 0.9740\n",
            "Epoch 7/10\n",
            "750/750 [==============================] - 3s 4ms/step - loss: 0.0417 - accuracy: 0.9878 - val_loss: 0.0858 - val_accuracy: 0.9737\n",
            "Epoch 8/10\n",
            "750/750 [==============================] - 3s 5ms/step - loss: 0.0335 - accuracy: 0.9905 - val_loss: 0.0893 - val_accuracy: 0.9739\n",
            "Epoch 9/10\n",
            "750/750 [==============================] - 3s 4ms/step - loss: 0.0278 - accuracy: 0.9921 - val_loss: 0.0965 - val_accuracy: 0.9719\n",
            "Epoch 10/10\n",
            "750/750 [==============================] - 4s 5ms/step - loss: 0.0230 - accuracy: 0.9936 - val_loss: 0.0880 - val_accuracy: 0.9756\n"
          ]
        }
      ],
      "source": [
        "#train the model\n",
        "history=model.fit(xtrain,ytrain,batch_size=64,epochs=10,verbose=1,validation_split=0.2)\n",
        "  \n"
      ]
    },
    {
      "cell_type": "markdown",
      "source": [
        "\n",
        "**Test and Evaluate Neural Network Model**"
      ],
      "metadata": {
        "id": "_bnupRul99-C"
      }
    },
    {
      "cell_type": "code",
      "source": [
        "#Test and Evaluate Neural Network Model\n",
        "model.evaluate(xtest,ytest)\n",
        "\n"
      ],
      "metadata": {
        "colab": {
          "base_uri": "https://localhost:8080/"
        },
        "id": "r52XtxPD9wFC",
        "outputId": "25793123-f942-4260-ace8-c6a9f02b5f5f"
      },
      "execution_count": 21,
      "outputs": [
        {
          "output_type": "stream",
          "name": "stdout",
          "text": [
            "313/313 [==============================] - 1s 2ms/step - loss: 0.0778 - accuracy: 0.9769\n"
          ]
        },
        {
          "output_type": "execute_result",
          "data": {
            "text/plain": [
              "[0.07782183587551117, 0.9768999814987183]"
            ]
          },
          "metadata": {},
          "execution_count": 21
        }
      ]
    },
    {
      "cell_type": "code",
      "execution_count": 22,
      "metadata": {
        "colab": {
          "base_uri": "https://localhost:8080/"
        },
        "id": "pjM4QAubh8ps",
        "outputId": "b48908e1-915b-448a-ee59-bc670d2e0fb1"
      },
      "outputs": [
        {
          "output_type": "stream",
          "name": "stdout",
          "text": [
            "313/313 [==============================] - 1s 2ms/step\n"
          ]
        },
        {
          "output_type": "execute_result",
          "data": {
            "text/plain": [
              "array([[2.1806185e-08, 5.6753922e-09, 3.7549546e-06, ..., 9.9988860e-01,\n",
              "        8.1228163e-06, 1.1872311e-05],\n",
              "       [9.0677549e-10, 9.1576453e-07, 9.9999875e-01, ..., 2.3755327e-15,\n",
              "        1.3201095e-07, 4.5491476e-17],\n",
              "       [2.8271631e-06, 9.9654764e-01, 2.2680852e-04, ..., 1.9968422e-03,\n",
              "        1.0698059e-03, 2.9902712e-06],\n",
              "       ...,\n",
              "       [2.2256467e-14, 5.6198592e-12, 2.4817423e-14, ..., 2.8655941e-07,\n",
              "        1.6512034e-07, 3.5741279e-05],\n",
              "       [1.7349547e-13, 4.1412217e-11, 7.6376487e-14, ..., 1.3323550e-11,\n",
              "        2.9755174e-05, 8.4374147e-11],\n",
              "       [1.2488307e-09, 1.4388606e-12, 1.8829582e-10, ..., 3.3198739e-15,\n",
              "        4.3655905e-11, 2.6589853e-10]], dtype=float32)"
            ]
          },
          "metadata": {},
          "execution_count": 22
        }
      ],
      "source": [
        "model.predict(xtest)\n"
      ]
    },
    {
      "cell_type": "code",
      "execution_count": 23,
      "metadata": {
        "colab": {
          "base_uri": "https://localhost:8080/"
        },
        "id": "WOAdZi8qrthx",
        "outputId": "4884ccbe-41ed-4e9f-cf14-68ec3f271394"
      },
      "outputs": [
        {
          "output_type": "stream",
          "name": "stdout",
          "text": [
            "313/313 [==============================] - 1s 2ms/step\n"
          ]
        }
      ],
      "source": [
        "y_pro=model.predict(xtest)"
      ]
    },
    {
      "cell_type": "code",
      "execution_count": 24,
      "metadata": {
        "id": "81nrHc4visnd"
      },
      "outputs": [],
      "source": [
        "ypred=y_pro.argmax(axis=1)\n"
      ]
    },
    {
      "cell_type": "code",
      "execution_count": 25,
      "metadata": {
        "colab": {
          "base_uri": "https://localhost:8080/"
        },
        "id": "jN8Nu1VBixow",
        "outputId": "0abe1f70-5860-4ee2-8f17-9a1846567b24"
      },
      "outputs": [
        {
          "output_type": "execute_result",
          "data": {
            "text/plain": [
              "0.9769"
            ]
          },
          "metadata": {},
          "execution_count": 25
        }
      ],
      "source": [
        "#accuracy of the  model\n",
        "from sklearn.metrics import accuracy_score\n",
        "accuracy_score(ytest,ypred)\n"
      ]
    },
    {
      "cell_type": "markdown",
      "source": [
        "**check the model overfit or not ** \n",
        "\n",
        "A figure is created showing line plots of the model loss on the train and test sets.\n",
        "\n",
        "We can see that expected shape of it is goodfit model ."
      ],
      "metadata": {
        "id": "tHjKkmK7C2NI"
      }
    },
    {
      "cell_type": "code",
      "source": [
        "plt.plot(history.history['loss'], label='train')\n",
        "plt.plot(history.history['val_loss'], label='test')\n",
        "plt.legend()\n",
        "plt.show()"
      ],
      "metadata": {
        "id": "guxsYiQlCnTg",
        "colab": {
          "base_uri": "https://localhost:8080/",
          "height": 269
        },
        "outputId": "8913899c-c9c0-4403-9d81-cb1183fc22f9"
      },
      "execution_count": 26,
      "outputs": [
        {
          "output_type": "display_data",
          "data": {
            "text/plain": [
              "<Figure size 432x288 with 1 Axes>"
            ],
            "image/png": "[encoded data removed]"
          },
          "metadata": {
            "needs_background": "light"
          }
        }
      ]
    },
    {
      "cell_type": "code",
      "source": [
        "plt.plot(history.history['accuracy'])\n",
        "plt.plot(history.history['val_accuracy'])\n"
      ],
      "metadata": {
        "colab": {
          "base_uri": "https://localhost:8080/",
          "height": 282
        },
        "id": "dc-wR3HWI1u2",
        "outputId": "29b78ab0-da60-4318-ac9d-a755717c9501"
      },
      "execution_count": 27,
      "outputs": [
        {
          "output_type": "execute_result",
          "data": {
            "text/plain": [
              "[<matplotlib.lines.Line2D at 0x7f1776d3ae50>]"
            ]
          },
          "metadata": {},
          "execution_count": 27
        },
        {
          "output_type": "display_data",
          "data": {
            "text/plain": [
              "<Figure size 432x288 with 1 Axes>"
            ],
            "image/png": "[encoded data removed]"
          },
          "metadata": {
            "needs_background": "light"
          }
        }
      ]
    },
    {
      "cell_type": "markdown",
      "source": [
        "**# new data check**"
      ],
      "metadata": {
        "id": "RSUca1MOaR1z"
      }
    },
    {
      "cell_type": "code",
      "source": [
        "#show it is real img\n",
        "plt.imshow(xtest[79])"
      ],
      "metadata": {
        "colab": {
          "base_uri": "https://localhost:8080/",
          "height": 282
        },
        "id": "FokCT2SHah_Y",
        "outputId": "f54d0a87-5098-40e0-e7be-042d6a14d9f4"
      },
      "execution_count": 28,
      "outputs": [
        {
          "output_type": "execute_result",
          "data": {
            "text/plain": [
              "<matplotlib.image.AxesImage at 0x7f1776c8baf0>"
            ]
          },
          "metadata": {},
          "execution_count": 28
        },
        {
          "output_type": "display_data",
          "data": {
            "text/plain": [
              "<Figure size 432x288 with 1 Axes>"
            ],
            "image/png": "[encoded data removed]"
          },
          "metadata": {
            "needs_background": "light"
          }
        }
      ]
    },
    {
      "cell_type": "code",
      "source": [
        "#model predict output\n",
        "# new data check\n",
        "res = model.predict(xtest[79])\n",
        "np.argmax(res)\n",
        "plt.imshow(res)"
      ],
      "metadata": {
        "colab": {
          "base_uri": "https://localhost:8080/",
          "height": 120
        },
        "id": "LlLHS6MoaQRE",
        "outputId": "9b292065-68e2-4d74-c258-ce467055299c"
      },
      "execution_count": 31,
      "outputs": [
        {
          "output_type": "stream",
          "name": "stdout",
          "text": [
            "1/1 [==============================] - 0s 57ms/step\n"
          ]
        },
        {
          "output_type": "execute_result",
          "data": {
            "text/plain": [
              "<matplotlib.image.AxesImage at 0x7f177cbb5a90>"
            ]
          },
          "metadata": {},
          "execution_count": 31
        },
        {
          "output_type": "display_data",
          "data": {
            "text/plain": [
              "<Figure size 432x288 with 1 Axes>"
            ],
            "image/png": "[encoded data removed]"
          },
          "metadata": {
            "needs_background": "light"
          }
        }
      ]
    },
    {
      "cell_type": "code",
      "source": [],
      "metadata": {
        "id": "GTtb3EfGaeIg"
      },
      "execution_count": 29,
      "outputs": []
    },
    {
      "cell_type": "code",
      "source": [],
      "metadata": {
        "id": "_pOXrLs6afKb"
      },
      "execution_count": 29,
      "outputs": []
    },
    {
      "cell_type": "markdown",
      "source": [
        "**solve the problem of oveoverfit model**  \n",
        "\n",
        "**solve this situation using the Early Stopping method use**"
      ],
      "metadata": {
        "id": "LOaHX0-ODicw"
      }
    },
    {
      "cell_type": "code",
      "source": [
        "'''\n",
        "# fit model\n",
        "history1 = model.fit(xtrain, ytrain, validation_data=(xtest, ytest), epochs=4, verbose=0)\n",
        "# evaluate the model\n",
        "train_acc = model.evaluate(xtrain, ytrain, verbose=0)\n",
        "test_acc = model.evaluate(xtest, ytest, verbose=0)\n",
        "# plot training history\n",
        "plt.plot(history1.history['loss'], label='train')\n",
        "plt.plot(history1.history['val_loss'], label='test')\n",
        "plt.legend()\n",
        "plt.show()\n",
        "'''"
      ],
      "metadata": {
        "id": "OJmVylCoDtUJ",
        "colab": {
          "base_uri": "https://localhost:8080/",
          "height": 70
        },
        "outputId": "88d2691a-cb02-41a0-9616-dcd07301588e"
      },
      "execution_count": 30,
      "outputs": [
        {
          "output_type": "execute_result",
          "data": {
            "text/plain": [
              "\"\\n# fit model\\nhistory1 = model.fit(xtrain, ytrain, validation_data=(xtest, ytest), epochs=4, verbose=0)\\n# evaluate the model\\ntrain_acc = model.evaluate(xtrain, ytrain, verbose=0)\\ntest_acc = model.evaluate(xtest, ytest, verbose=0)\\n# plot training history\\nplt.plot(history1.history['loss'], label='train')\\nplt.plot(history1.history['val_loss'], label='test')\\nplt.legend()\\nplt.show()\\n\""
            ],
            "application/vnd.google.colaboratory.intrinsic+json": {
              "type": "string"
            }
          },
          "metadata": {},
          "execution_count": 30
        }
      ]
    }
  ],
  "metadata": {
    "colab": {
      "provenance": []
    },
    "kernelspec": {
      "display_name": "Python 3",
      "name": "python3"
    },
    "language_info": {
      "name": "python"
    }
  },
  "nbformat": 4,
  "nbformat_minor": 0
}